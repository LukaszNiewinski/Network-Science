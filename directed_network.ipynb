{
 "cells": [
  {
   "cell_type": "markdown",
   "metadata": {},
   "source": [
    "## Signed Directed Bitcoin OTC web of trust network\n",
    "\n",
    "### Data Set informations:\n",
    "This is who-trusts-whom network of people who trade using Bitcoin on a platform called Bitcoin OTC. Since Bitcoin users are anonymous, there is a need to maintain a record of users' reputation to prevent transactions with fraudulent and risky users. Members of Bitcoin OTC rate other members in a scale of -10 (total distrust) to +10 (total trust) in steps of 1. This is the first explicit weighted signed directed network available for research.\n",
    "\n",
    "<img src=\"data/image.png\" alt=\"Drawing\" style=\"width: 350px;\"/>"
   ]
  },
  {
   "cell_type": "markdown",
   "metadata": {},
   "source": [
    "Each line has one rating, sorted by time with the following format: \n",
    "    `SOURCE, TARGET, RATING, TIME`"
   ]
  },
  {
   "cell_type": "markdown",
   "metadata": {},
   "source": [
    "### Read data and build network using NetworkX"
   ]
  },
  {
   "cell_type": "code",
   "execution_count": 1,
   "metadata": {},
   "outputs": [],
   "source": [
    "# imports\n",
    "import networkx as nx\n",
    "import matplotlib.pyplot as plt\n",
    "import matplotlib as mpl\n",
    "import pandas as pd\n",
    "import collections\n",
    "from pandas.plotting import register_matplotlib_converters\n",
    "%matplotlib notebook\n",
    "\n",
    "from data_tools import plot_functions as func\n"
   ]
  },
  {
   "cell_type": "code",
   "execution_count": 2,
   "metadata": {
    "scrolled": true
   },
   "outputs": [
    {
     "data": {
      "text/html": [
       "<div>\n",
       "<style scoped>\n",
       "    .dataframe tbody tr th:only-of-type {\n",
       "        vertical-align: middle;\n",
       "    }\n",
       "\n",
       "    .dataframe tbody tr th {\n",
       "        vertical-align: top;\n",
       "    }\n",
       "\n",
       "    .dataframe thead th {\n",
       "        text-align: right;\n",
       "    }\n",
       "</style>\n",
       "<table border=\"1\" class=\"dataframe\">\n",
       "  <thead>\n",
       "    <tr style=\"text-align: right;\">\n",
       "      <th></th>\n",
       "      <th>Source</th>\n",
       "      <th>Target</th>\n",
       "      <th>Rating</th>\n",
       "      <th>Time</th>\n",
       "    </tr>\n",
       "  </thead>\n",
       "  <tbody>\n",
       "    <tr>\n",
       "      <td>0</td>\n",
       "      <td>6</td>\n",
       "      <td>2</td>\n",
       "      <td>4</td>\n",
       "      <td>1.289242e+09</td>\n",
       "    </tr>\n",
       "    <tr>\n",
       "      <td>1</td>\n",
       "      <td>6</td>\n",
       "      <td>5</td>\n",
       "      <td>2</td>\n",
       "      <td>1.289242e+09</td>\n",
       "    </tr>\n",
       "    <tr>\n",
       "      <td>2</td>\n",
       "      <td>1</td>\n",
       "      <td>15</td>\n",
       "      <td>1</td>\n",
       "      <td>1.289243e+09</td>\n",
       "    </tr>\n",
       "    <tr>\n",
       "      <td>3</td>\n",
       "      <td>4</td>\n",
       "      <td>3</td>\n",
       "      <td>7</td>\n",
       "      <td>1.289245e+09</td>\n",
       "    </tr>\n",
       "    <tr>\n",
       "      <td>4</td>\n",
       "      <td>13</td>\n",
       "      <td>16</td>\n",
       "      <td>8</td>\n",
       "      <td>1.289254e+09</td>\n",
       "    </tr>\n",
       "    <tr>\n",
       "      <td>...</td>\n",
       "      <td>...</td>\n",
       "      <td>...</td>\n",
       "      <td>...</td>\n",
       "      <td>...</td>\n",
       "    </tr>\n",
       "    <tr>\n",
       "      <td>35587</td>\n",
       "      <td>4499</td>\n",
       "      <td>1810</td>\n",
       "      <td>1</td>\n",
       "      <td>1.453612e+09</td>\n",
       "    </tr>\n",
       "    <tr>\n",
       "      <td>35588</td>\n",
       "      <td>2731</td>\n",
       "      <td>3901</td>\n",
       "      <td>5</td>\n",
       "      <td>1.453679e+09</td>\n",
       "    </tr>\n",
       "    <tr>\n",
       "      <td>35589</td>\n",
       "      <td>2731</td>\n",
       "      <td>4897</td>\n",
       "      <td>5</td>\n",
       "      <td>1.453679e+09</td>\n",
       "    </tr>\n",
       "    <tr>\n",
       "      <td>35590</td>\n",
       "      <td>13</td>\n",
       "      <td>1128</td>\n",
       "      <td>1</td>\n",
       "      <td>1.453680e+09</td>\n",
       "    </tr>\n",
       "    <tr>\n",
       "      <td>35591</td>\n",
       "      <td>1128</td>\n",
       "      <td>13</td>\n",
       "      <td>2</td>\n",
       "      <td>1.453684e+09</td>\n",
       "    </tr>\n",
       "  </tbody>\n",
       "</table>\n",
       "<p>35592 rows × 4 columns</p>\n",
       "</div>"
      ],
      "text/plain": [
       "       Source  Target  Rating          Time\n",
       "0           6       2       4  1.289242e+09\n",
       "1           6       5       2  1.289242e+09\n",
       "2           1      15       1  1.289243e+09\n",
       "3           4       3       7  1.289245e+09\n",
       "4          13      16       8  1.289254e+09\n",
       "...       ...     ...     ...           ...\n",
       "35587    4499    1810       1  1.453612e+09\n",
       "35588    2731    3901       5  1.453679e+09\n",
       "35589    2731    4897       5  1.453679e+09\n",
       "35590      13    1128       1  1.453680e+09\n",
       "35591    1128      13       2  1.453684e+09\n",
       "\n",
       "[35592 rows x 4 columns]"
      ]
     },
     "execution_count": 2,
     "metadata": {},
     "output_type": "execute_result"
    }
   ],
   "source": [
    "# read file\n",
    "register_matplotlib_converters()\n",
    "data = pd.read_csv('data/soc-sign-bitcoinotc.csv', sep=',', decimal='.', parse_dates=True, infer_datetime_format=True)\n",
    "# time is in epochtime format, can be transformed to date time\n",
    "data"
   ]
  },
  {
   "cell_type": "code",
   "execution_count": 3,
   "metadata": {},
   "outputs": [
    {
     "name": "stdout",
     "output_type": "stream",
     "text": [
      "Number of nodes: 5881\n",
      "Number of edges: 35592\n"
     ]
    }
   ],
   "source": [
    "# create the graph and validate number of nodes and edges\n",
    "g_bitcoin_otc = nx.from_pandas_edgelist(data, source='Source', target='Target', edge_attr='Rating', create_using=nx.DiGraph)\n",
    "n_nodes=g_bitcoin_otc.number_of_nodes()\n",
    "print(\"Number of nodes:\", g_bitcoin_otc.number_of_nodes())\n",
    "print(\"Number of edges:\", g_bitcoin_otc.number_of_edges())\n"
   ]
  },
  {
   "cell_type": "code",
   "execution_count": 4,
   "metadata": {},
   "outputs": [
    {
     "name": "stdout",
     "output_type": "stream",
     "text": [
      "20 NODE WITH HIGHEST IN DEGREE \t\t\t20 NODE WITH HIGHEST OUT DEGREE\n",
      "\n",
      "IN Node:\u001b[1m 35 \u001b[0m\tdegree:\u001b[1m 0.09098639455782312 \u001b[0m\tOUT Node:\u001b[1m 35 \u001b[0m\tdegree:\u001b[1m 0.12976190476190474 \u001b[0m\n",
      "IN Node:\u001b[1m 2642 \u001b[0m\tdegree:\u001b[1m 0.07006802721088434 \u001b[0m\tOUT Node:\u001b[1m 2642 \u001b[0m\tdegree:\u001b[1m 0.06904761904761904 \u001b[0m\n",
      "IN Node:\u001b[1m 1810 \u001b[0m\tdegree:\u001b[1m 0.05289115646258503 \u001b[0m\tOUT Node:\u001b[1m 1810 \u001b[0m\tdegree:\u001b[1m 0.06870748299319727 \u001b[0m\n",
      "IN Node:\u001b[1m 2028 \u001b[0m\tdegree:\u001b[1m 0.047448979591836735 \u001b[0m\tOUT Node:\u001b[1m 2125 \u001b[0m\tdegree:\u001b[1m 0.06751700680272109 \u001b[0m\n",
      "IN Node:\u001b[1m 905 \u001b[0m\tdegree:\u001b[1m 0.044897959183673466 \u001b[0m\tOUT Node:\u001b[1m 2028 \u001b[0m\tdegree:\u001b[1m 0.049829931972789114 \u001b[0m\n",
      "IN Node:\u001b[1m 1 \u001b[0m\tdegree:\u001b[1m 0.03843537414965986 \u001b[0m\tOUT Node:\u001b[1m 905 \u001b[0m\tdegree:\u001b[1m 0.044897959183673466 \u001b[0m\n",
      "IN Node:\u001b[1m 4172 \u001b[0m\tdegree:\u001b[1m 0.03775510204081632 \u001b[0m\tOUT Node:\u001b[1m 4172 \u001b[0m\tdegree:\u001b[1m 0.044897959183673466 \u001b[0m\n",
      "IN Node:\u001b[1m 7 \u001b[0m\tdegree:\u001b[1m 0.03673469387755102 \u001b[0m\tOUT Node:\u001b[1m 7 \u001b[0m\tdegree:\u001b[1m 0.03945578231292517 \u001b[0m\n",
      "IN Node:\u001b[1m 4197 \u001b[0m\tdegree:\u001b[1m 0.03452380952380952 \u001b[0m\tOUT Node:\u001b[1m 1 \u001b[0m\tdegree:\u001b[1m 0.036564625850340135 \u001b[0m\n",
      "IN Node:\u001b[1m 13 \u001b[0m\tdegree:\u001b[1m 0.03248299319727891 \u001b[0m\tOUT Node:\u001b[1m 3129 \u001b[0m\tdegree:\u001b[1m 0.03605442176870748 \u001b[0m\n",
      "IN Node:\u001b[1m 2125 \u001b[0m\tdegree:\u001b[1m 0.030612244897959183 \u001b[0m\tOUT Node:\u001b[1m 13 \u001b[0m\tdegree:\u001b[1m 0.03571428571428571 \u001b[0m\n",
      "IN Node:\u001b[1m 1018 \u001b[0m\tdegree:\u001b[1m 0.030442176870748298 \u001b[0m\tOUT Node:\u001b[1m 1018 \u001b[0m\tdegree:\u001b[1m 0.03452380952380952 \u001b[0m\n",
      "IN Node:\u001b[1m 1953 \u001b[0m\tdegree:\u001b[1m 0.028061224489795915 \u001b[0m\tOUT Node:\u001b[1m 4197 \u001b[0m\tdegree:\u001b[1m 0.03435374149659864 \u001b[0m\n",
      "IN Node:\u001b[1m 1334 \u001b[0m\tdegree:\u001b[1m 0.027891156462585033 \u001b[0m\tOUT Node:\u001b[1m 2296 \u001b[0m\tdegree:\u001b[1m 0.03401360544217687 \u001b[0m\n",
      "IN Node:\u001b[1m 4291 \u001b[0m\tdegree:\u001b[1m 0.026870748299319725 \u001b[0m\tOUT Node:\u001b[1m 2388 \u001b[0m\tdegree:\u001b[1m 0.033503401360544215 \u001b[0m\n",
      "IN Node:\u001b[1m 2296 \u001b[0m\tdegree:\u001b[1m 0.02465986394557823 \u001b[0m\tOUT Node:\u001b[1m 3988 \u001b[0m\tdegree:\u001b[1m 0.03231292517006803 \u001b[0m\n",
      "IN Node:\u001b[1m 546 \u001b[0m\tdegree:\u001b[1m 0.024489795918367346 \u001b[0m\tOUT Node:\u001b[1m 2067 \u001b[0m\tdegree:\u001b[1m 0.03163265306122449 \u001b[0m\n",
      "IN Node:\u001b[1m 2388 \u001b[0m\tdegree:\u001b[1m 0.02312925170068027 \u001b[0m\tOUT Node:\u001b[1m 1386 \u001b[0m\tdegree:\u001b[1m 0.029251700680272108 \u001b[0m\n",
      "IN Node:\u001b[1m 1386 \u001b[0m\tdegree:\u001b[1m 0.0227891156462585 \u001b[0m\tOUT Node:\u001b[1m 4291 \u001b[0m\tdegree:\u001b[1m 0.029251700680272108 \u001b[0m\n",
      "IN Node:\u001b[1m 2625 \u001b[0m\tdegree:\u001b[1m 0.02261904761904762 \u001b[0m\tOUT Node:\u001b[1m 2045 \u001b[0m\tdegree:\u001b[1m 0.028911564625850338 \u001b[0m\n"
     ]
    }
   ],
   "source": [
    "# convert dictionary into list of tuples\n",
    "in_degree_list = [(k, v) for k, v in nx.in_degree_centrality(g_bitcoin_otc).items()] \n",
    "out_degree_list = [(k, v) for k, v in nx.out_degree_centrality(g_bitcoin_otc).items()] \n",
    "# sort list of tuples using as key degree\n",
    "in_degree_list = sorted(in_degree_list, key=lambda tup: tup[1], reverse=True)\n",
    "out_degree_list = sorted(out_degree_list, key=lambda tup: tup[1], reverse=True)\n",
    "print(\"20 NODE WITH HIGHEST IN DEGREE \\t\\t\\t20 NODE WITH HIGHEST OUT DEGREE\\n\")\n",
    "for i in range(20):\n",
    "    print(\"IN Node:\\033[1m\", in_degree_list[i][0], \"\\033[0m\\tdegree:\\033[1m\", in_degree_list[i][1], \"\\033[0m\\tOUT Node:\\033[1m\" , out_degree_list[i][0], \"\\033[0m\\tdegree:\\033[1m\", out_degree_list[i][1], \"\\033[0m\")"
   ]
  },
  {
   "cell_type": "code",
   "execution_count": 5,
   "metadata": {},
   "outputs": [
    {
     "name": "stdout",
     "output_type": "stream",
     "text": [
      "20 NODE WITH HIGHEST IN DEGREE WEIGHTED \t\t\t20 NODE WITH HIGHEST OUT DEGREE WEIGHTED\n",
      "\n",
      "IN Node:\u001b[1m 35 \u001b[0m\tdegree:\u001b[1m 0.17701071246386668 \u001b[0m\tOUT Node:\u001b[1m 35 \u001b[0m\tdegree:\u001b[1m 0.12976190476190474 \u001b[0m\n",
      "IN Node:\u001b[1m 2642 \u001b[0m\tdegree:\u001b[1m 0.17275973473898998 \u001b[0m\tOUT Node:\u001b[1m 2642 \u001b[0m\tdegree:\u001b[1m 0.06904761904761904 \u001b[0m\n",
      "IN Node:\u001b[1m 7 \u001b[0m\tdegree:\u001b[1m 0.13620132630505016 \u001b[0m\tOUT Node:\u001b[1m 1810 \u001b[0m\tdegree:\u001b[1m 0.06870748299319727 \u001b[0m\n",
      "IN Node:\u001b[1m 1 \u001b[0m\tdegree:\u001b[1m 0.10440401292297229 \u001b[0m\tOUT Node:\u001b[1m 2125 \u001b[0m\tdegree:\u001b[1m 0.06751700680272109 \u001b[0m\n",
      "IN Node:\u001b[1m 257 \u001b[0m\tdegree:\u001b[1m 0.0802584594456725 \u001b[0m\tOUT Node:\u001b[1m 2028 \u001b[0m\tdegree:\u001b[1m 0.049829931972789114 \u001b[0m\n",
      "IN Node:\u001b[1m 2028 \u001b[0m\tdegree:\u001b[1m 0.08008842033667743 \u001b[0m\tOUT Node:\u001b[1m 905 \u001b[0m\tdegree:\u001b[1m 0.044897959183673466 \u001b[0m\n",
      "IN Node:\u001b[1m 4291 \u001b[0m\tdegree:\u001b[1m 0.07464716884883524 \u001b[0m\tOUT Node:\u001b[1m 4172 \u001b[0m\tdegree:\u001b[1m 0.044897959183673466 \u001b[0m\n",
      "IN Node:\u001b[1m 1018 \u001b[0m\tdegree:\u001b[1m 0.07073626934194865 \u001b[0m\tOUT Node:\u001b[1m 7 \u001b[0m\tdegree:\u001b[1m 0.03945578231292517 \u001b[0m\n",
      "IN Node:\u001b[1m 13 \u001b[0m\tdegree:\u001b[1m 0.06121407923822479 \u001b[0m\tOUT Node:\u001b[1m 1 \u001b[0m\tdegree:\u001b[1m 0.036564625850340135 \u001b[0m\n",
      "IN Node:\u001b[1m 1396 \u001b[0m\tdegree:\u001b[1m 0.05798333616731848 \u001b[0m\tOUT Node:\u001b[1m 3129 \u001b[0m\tdegree:\u001b[1m 0.03605442176870748 \u001b[0m\n",
      "IN Node:\u001b[1m 4197 \u001b[0m\tdegree:\u001b[1m 0.054922632205407246 \u001b[0m\tOUT Node:\u001b[1m 13 \u001b[0m\tdegree:\u001b[1m 0.03571428571428571 \u001b[0m\n",
      "IN Node:\u001b[1m 202 \u001b[0m\tdegree:\u001b[1m 0.05322224111545656 \u001b[0m\tOUT Node:\u001b[1m 1018 \u001b[0m\tdegree:\u001b[1m 0.03452380952380952 \u001b[0m\n",
      "IN Node:\u001b[1m 1317 \u001b[0m\tdegree:\u001b[1m 0.050161537153545314 \u001b[0m\tOUT Node:\u001b[1m 4197 \u001b[0m\tdegree:\u001b[1m 0.03435374149659864 \u001b[0m\n",
      "IN Node:\u001b[1m 304 \u001b[0m\tdegree:\u001b[1m 0.04676075497364394 \u001b[0m\tOUT Node:\u001b[1m 2296 \u001b[0m\tdegree:\u001b[1m 0.03401360544217687 \u001b[0m\n",
      "IN Node:\u001b[1m 3129 \u001b[0m\tdegree:\u001b[1m 0.043189933684747495 \u001b[0m\tOUT Node:\u001b[1m 2388 \u001b[0m\tdegree:\u001b[1m 0.033503401360544215 \u001b[0m\n",
      "IN Node:\u001b[1m 1217 \u001b[0m\tdegree:\u001b[1m 0.042849855466757354 \u001b[0m\tOUT Node:\u001b[1m 3988 \u001b[0m\tdegree:\u001b[1m 0.03231292517006803 \u001b[0m\n",
      "IN Node:\u001b[1m 1899 \u001b[0m\tdegree:\u001b[1m 0.04233973813977215 \u001b[0m\tOUT Node:\u001b[1m 2067 \u001b[0m\tdegree:\u001b[1m 0.03163265306122449 \u001b[0m\n",
      "IN Node:\u001b[1m 1953 \u001b[0m\tdegree:\u001b[1m 0.0409794252678116 \u001b[0m\tOUT Node:\u001b[1m 1386 \u001b[0m\tdegree:\u001b[1m 0.029251700680272108 \u001b[0m\n",
      "IN Node:\u001b[1m 1201 \u001b[0m\tdegree:\u001b[1m 0.04029926883183132 \u001b[0m\tOUT Node:\u001b[1m 4291 \u001b[0m\tdegree:\u001b[1m 0.029251700680272108 \u001b[0m\n",
      "IN Node:\u001b[1m 1566 \u001b[0m\tdegree:\u001b[1m 0.04029926883183132 \u001b[0m\tOUT Node:\u001b[1m 2045 \u001b[0m\tdegree:\u001b[1m 0.028911564625850338 \u001b[0m\n"
     ]
    }
   ],
   "source": [
    "# count weighted degree distribution \n",
    "weighted_in_degree = dict()\n",
    "weighted_out_degree = dict()\n",
    "for instance in data.values:\n",
    "    weighted_in_degree[instance[0]] = weighted_in_degree.get(instance[0], 0) + instance[2]\n",
    "    weighted_in_degree[instance[1]] = weighted_in_degree.get(instance[1], 0)\n",
    "    weighted_out_degree[instance[1]] = weighted_out_degree.get(instance[1], 0) + instance[2]\n",
    "    weighted_out_degree[instance[0]] = weighted_out_degree.get(instance[0], 0)\n",
    "in_degree_list_weight = list()\n",
    "\n",
    "for key, value in weighted_in_degree.items():\n",
    "    in_degree_list_weight.append((int(key),value/n_nodes))\n",
    "    \n",
    "out_degree_list_weight = list()\n",
    "for key, value in weighted_out_degree.items():\n",
    "    out_degree_list_weight.append((int(key),value/n_nodes))\n",
    "    \n",
    "in_degree_list_weight = sorted(in_degree_list_weight, key=lambda tup: tup[1], reverse=True)\n",
    "out_degree_list_weight = sorted(out_degree_list_weight, key=lambda tup: tup[1], reverse=True)\n",
    "\n",
    "print(\"20 NODE WITH HIGHEST IN DEGREE WEIGHTED \\t\\t\\t20 NODE WITH HIGHEST OUT DEGREE WEIGHTED\\n\")\n",
    "for i in range(20):\n",
    "    print(\"IN Node:\\033[1m\", in_degree_list_weight[i][0], \"\\033[0m\\tdegree:\\033[1m\", out_degree_list_weight[i][1], \"\\033[0m\\tOUT Node:\\033[1m\" , out_degree_list[i][0], \"\\033[0m\\tdegree:\\033[1m\", out_degree_list[i][1], \"\\033[0m\")\n"
   ]
  },
  {
   "cell_type": "code",
   "execution_count": 6,
   "metadata": {},
   "outputs": [],
   "source": [
    "# display chosen nodes and those connections\n",
    "def display_network(network, list_of_nodes):\n",
    "    # get list of edges connected with given nodes\n",
    "    list_of_edges = network.edges(list_of_nodes)\n",
    "    # add involved nodes to list_of_nodes to get its position\n",
    "    for edge in list_of_edges:\n",
    "        if edge[0] not in list_of_nodes:\n",
    "            list_of_nodes.append(edge[0])\n",
    "        if edge[1] not in list_of_nodes:\n",
    "            list_of_nodes.append(edge[1])\n",
    "            \n",
    "    #print(\"nodes number:\", list_of_nodes[0], type(list_of_nodes[0]))\n",
    "    #print(\"edges number:\", len(list_of_edges))\n",
    "    pos = nx.layout.spectral_layout(list_of_nodes)\n",
    "    node_sizes = [1 + 0.5 * i for i in range(len(list_of_nodes))]\n",
    "    \n",
    "    M = len(list_of_edges)\n",
    "    edge_colors = range(2, M + 2)\n",
    "    print(len(edge_colors))\n",
    "    edge_alphas = [(5 + i) / (M + 4) for i in range(M)]\n",
    "    \n",
    "    plt.figure(1, figsize=(350,350))\n",
    "    nodes = nx.draw_networkx_nodes(network, pos, nodelist=list_of_nodes, node_size=node_sizes, node_color='blue')\n",
    "    edges = nx.draw_networkx_edges(network, pos, arrowstyle='->', edgelist=list_of_edges,\n",
    "                                   arrowsize=5, edge_color=edge_colors, \n",
    "                                   edge_cmap=plt.cm.Blues, width=0.6)\n",
    "#     set alpha value for each edge\n",
    "    for i in range(M):\n",
    "         edges[i].set_alpha(edge_alphas[i])\n",
    "\n",
    "    pc = mpl.collections.PatchCollection(edges, cmap=plt.cm.Blues)\n",
    "    pc.set_array(edge_colors)\n",
    "    #plt.rcParams['figure.figsize'] = [350, 350]\n",
    "    plt.colorbar(pc)\n",
    "    plt.show()\n",
    "\n",
    "\n"
   ]
  },
  {
   "cell_type": "code",
   "execution_count": 7,
   "metadata": {
    "scrolled": false
   },
   "outputs": [
    {
     "name": "stdout",
     "output_type": "stream",
     "text": [
      "[35, 2642, 1810, 2028, 905, 1, 4172, 7, 4197, 13]\n"
     ]
    }
   ],
   "source": [
    "list_of_best_nodes = [node[0] for node in in_degree_list[:10]]\n",
    "print(list_of_best_nodes)\n",
    "# uncomment line below to print network partailly (listed nodes and nodes connected to them)\n",
    "#display_network(g_bitcoin_otc, list_of_best_nodes)"
   ]
  },
  {
   "cell_type": "code",
   "execution_count": 8,
   "metadata": {},
   "outputs": [
    {
     "data": {
      "image/png": "[encoded data removed]",
      "text/plain": [
       "<Figure size 432x288 with 2 Axes>"
      ]
     },
     "metadata": {
      "needs_background": "light"
     },
     "output_type": "display_data"
    }
   ],
   "source": [
    "degree_sequence = sorted([d for n, d in g_bitcoin_otc.degree()], reverse=True)  # degree sequence\n",
    "# print \"Degree sequence\", degree_sequence\n",
    "degreeCount = collections.Counter(degree_sequence)\n",
    "deg, cnt = zip(*degreeCount.items())\n",
    "\n",
    "fig, ax = plt.subplots()\n",
    "plt.bar(deg, cnt, width=0.80, color='b')\n",
    "\n",
    "plt.title(\"Degree Histogram\")\n",
    "plt.ylabel(\"Count\")\n",
    "plt.xlabel(\"In Degree without weight\")\n",
    "ax.set_xticks([d + 0.4 for d in deg])\n",
    "ax.set_xticklabels(deg)\n",
    "ax.set_yscale('log')\n",
    "ax.set_xlim(right=400)\n",
    "\n",
    "# draw graph in inset\n",
    "plt.axes([0.4, 0.4, 0.5, 0.5])\n",
    "plt.axis('off')\n",
    "plt.show()"
   ]
  },
  {
   "cell_type": "code",
   "execution_count": 17,
   "metadata": {},
   "outputs": [
    {
     "data": {
      "image/png": "[encoded data removed]",
      "text/plain": [
       "<Figure size 432x288 with 2 Axes>"
      ]
     },
     "metadata": {
      "needs_background": "light"
     },
     "output_type": "display_data"
    }
   ],
   "source": [
    "#in_degree_list_weight\n",
    "degree_sequence_in_weighted = [node[1] for node in in_degree_list_weight]\n",
    "\n",
    "degreeCount = collections.Counter(degree_sequence_in_weighted)\n",
    "deg, cnt = zip(*degreeCount.items())\n",
    "\n",
    "fig, ax = plt.subplots()\n",
    "plt.bar(deg, cnt, width=0.0010, color='b')\n",
    "\n",
    "plt.title(\"Degree Histogram\")\n",
    "plt.ylabel(\"Count\")\n",
    "plt.xlabel(\"In Degree with weights\")\n",
    "ax.set_xticks([d + 0.4 for d in deg])\n",
    "ax.set_xticklabels(deg)\n",
    "ax.set_yscale('log')\n",
    "#ax.set_xlim(right=400)\n",
    "\n",
    "# draw graph in inset\n",
    "plt.axes([0.4, 0.4, 0.5, 0.5])\n",
    "plt.axis('off')\n",
    "plt.show()\n"
   ]
  },
  {
   "cell_type": "code",
   "execution_count": 20,
   "metadata": {},
   "outputs": [
    {
     "data": {
      "image/png": "[encoded data removed]",
      "text/plain": [
       "<Figure size 432x288 with 2 Axes>"
      ]
     },
     "metadata": {
      "needs_background": "light"
     },
     "output_type": "display_data"
    }
   ],
   "source": [
    "#out_degree_list_weight\n",
    "degree_sequence_out_weighted = [int(node[1]*100000) for node in out_degree_list_weight]\n",
    "\n",
    "degreeCount = collections.Counter(degree_sequence_in_weighted)\n",
    "deg, cnt = zip(*degreeCount.items())\n",
    "\n",
    "fig, ax = plt.subplots()\n",
    "plt.bar(deg, cnt, width=0.005, color='b')\n",
    "\n",
    "plt.title(\"Degree Histogram\")\n",
    "plt.ylabel(\"Count\")\n",
    "plt.xlabel(\"out Degree with weights\")\n",
    "ax.set_xticks([d + 0.4 for d in deg])\n",
    "ax.set_xticklabels(deg)\n",
    "ax.set_yscale('log')\n",
    "#ax.set_xlim(right=400)\n",
    "\n",
    "# draw graph in inset\n",
    "plt.axes([0.4, 0.4, 0.5, 0.5])\n",
    "plt.axis('off')\n",
    "plt.show()"
   ]
  },
  {
   "cell_type": "code",
   "execution_count": 23,
   "metadata": {},
   "outputs": [
    {
     "data": {
      "image/png": "[encoded data removed]",
      "text/plain": [
       "<Figure size 432x288 with 2 Axes>"
      ]
     },
     "metadata": {
      "needs_background": "light"
     },
     "output_type": "display_data"
    }
   ],
   "source": [
    "#in_degree_list_not_weight\n",
    "degree_sequence_in = [node[1] for node in in_degree_list]\n",
    "\n",
    "degreeCount = collections.Counter(degree_sequence_in)\n",
    "deg, cnt = zip(*degreeCount.items())\n",
    "\n",
    "fig, ax = plt.subplots()\n",
    "plt.bar(deg, cnt, width=0.005, color='b')\n",
    "\n",
    "plt.title(\"Degree Histogram\")\n",
    "plt.ylabel(\"Count\")\n",
    "plt.xlabel(\"In Degree without weights\")\n",
    "ax.set_xticks([d + 0.4 for d in deg])\n",
    "ax.set_xticklabels(deg)\n",
    "ax.set_yscale('log')\n",
    "#ax.set_xlim(right=5000)\n",
    "\n",
    "# draw graph in inset\n",
    "plt.axes([0.4, 0.4, 0.5, 0.5])\n",
    "plt.axis('off')\n",
    "plt.show()\n"
   ]
  },
  {
   "cell_type": "code",
   "execution_count": 25,
   "metadata": {},
   "outputs": [
    {
     "data": {
      "image/png": "[encoded data removed]",
      "text/plain": [
       "<Figure size 432x288 with 2 Axes>"
      ]
     },
     "metadata": {
      "needs_background": "light"
     },
     "output_type": "display_data"
    }
   ],
   "source": [
    "#out_degree_list_not_weight\n",
    "degree_sequence_out = [node[1] for node in out_degree_list]\n",
    "\n",
    "degreeCount = collections.Counter(degree_sequence_out)\n",
    "deg, cnt = zip(*degreeCount.items())\n",
    "\n",
    "fig, ax = plt.subplots()\n",
    "plt.bar(deg, cnt, width=0.005, color='b')\n",
    "\n",
    "plt.title(\"Degree Histogram\")\n",
    "plt.ylabel(\"Count\")\n",
    "plt.xlabel(\"out Degree without weights\")\n",
    "ax.set_xticks([d + 0.4 for d in deg])\n",
    "ax.set_xticklabels(deg)\n",
    "ax.set_yscale('log')\n",
    "#ax.set_xlim(right=5000)\n",
    "\n",
    "# draw graph in inset\n",
    "plt.axes([0.4, 0.4, 0.5, 0.5])\n",
    "plt.axis('off')\n",
    "plt.show()"
   ]
  },
  {
   "cell_type": "code",
   "execution_count": 26,
   "metadata": {},
   "outputs": [],
   "source": [
    "in_not_weight = sorted(in_degree_list, key=lambda tup: tup[0], reverse=True)\n",
    "out_not_weight = sorted(out_degree_list, key=lambda tup: tup[0], reverse=True)\n",
    "in_weight = sorted(in_degree_list_weight, key=lambda tup: tup[0], reverse=True)\n",
    "out_weight = sorted(out_degree_list_weight, key=lambda tup: tup[0], reverse=True)"
   ]
  },
  {
   "cell_type": "code",
   "execution_count": 27,
   "metadata": {},
   "outputs": [
    {
     "name": "stdout",
     "output_type": "stream",
     "text": [
      "[(6005, 0.00017006802721088434, 0.0, 0.0, 0.00017003910899506886), (6004, 0.00017006802721088434, 0.0, 0.0, 0.00017003910899506886), (6003, 0.00017006802721088434, 0.0, 0.0, 0.00017003910899506886), (6002, 0.00017006802721088434, 0.0, 0.0, 0.00017003910899506886), (6000, 0.0, 0.00017006802721088434, 0.00017003910899506886, 0.0), (5999, 0.00017006802721088434, 0.00017006802721088434, 0.0013603128719605509, 0.00017003910899506886), (5998, 0.00017006802721088434, 0.0, 0.0, 0.00017003910899506886), (5997, 0.00017006802721088434, 0.0, 0.0, 0.00017003910899506886), (5996, 0.00017006802721088434, 0.00017006802721088434, 0.0005101173269852066, 0.0005101173269852066), (5995, 0.00017006802721088434, 0.00017006802721088434, 0.00017003910899506886, 0.00017003910899506886)]\n"
     ]
    }
   ],
   "source": [
    "to_data_frame = list()\n",
    "for i in range(len(in_not_weight)):\n",
    "    to_data_frame.append((in_not_weight[i][0], in_not_weight[i][1], out_not_weight[i][1], in_weight[i][1], out_weight[i][1]))\n",
    "print(to_data_frame[:10])\n"
   ]
  },
  {
   "cell_type": "code",
   "execution_count": 28,
   "metadata": {},
   "outputs": [
    {
     "data": {
      "text/html": [
       "<div>\n",
       "<style scoped>\n",
       "    .dataframe tbody tr th:only-of-type {\n",
       "        vertical-align: middle;\n",
       "    }\n",
       "\n",
       "    .dataframe tbody tr th {\n",
       "        vertical-align: top;\n",
       "    }\n",
       "\n",
       "    .dataframe thead th {\n",
       "        text-align: right;\n",
       "    }\n",
       "</style>\n",
       "<table border=\"1\" class=\"dataframe\">\n",
       "  <thead>\n",
       "    <tr style=\"text-align: right;\">\n",
       "      <th></th>\n",
       "      <th>0</th>\n",
       "      <th>1</th>\n",
       "      <th>2</th>\n",
       "      <th>3</th>\n",
       "      <th>4</th>\n",
       "    </tr>\n",
       "  </thead>\n",
       "  <tbody>\n",
       "    <tr>\n",
       "      <td>0</td>\n",
       "      <td>6005</td>\n",
       "      <td>0.000170</td>\n",
       "      <td>0.000000</td>\n",
       "      <td>0.000000</td>\n",
       "      <td>0.000170</td>\n",
       "    </tr>\n",
       "    <tr>\n",
       "      <td>1</td>\n",
       "      <td>6004</td>\n",
       "      <td>0.000170</td>\n",
       "      <td>0.000000</td>\n",
       "      <td>0.000000</td>\n",
       "      <td>0.000170</td>\n",
       "    </tr>\n",
       "    <tr>\n",
       "      <td>2</td>\n",
       "      <td>6003</td>\n",
       "      <td>0.000170</td>\n",
       "      <td>0.000000</td>\n",
       "      <td>0.000000</td>\n",
       "      <td>0.000170</td>\n",
       "    </tr>\n",
       "    <tr>\n",
       "      <td>3</td>\n",
       "      <td>6002</td>\n",
       "      <td>0.000170</td>\n",
       "      <td>0.000000</td>\n",
       "      <td>0.000000</td>\n",
       "      <td>0.000170</td>\n",
       "    </tr>\n",
       "    <tr>\n",
       "      <td>4</td>\n",
       "      <td>6000</td>\n",
       "      <td>0.000000</td>\n",
       "      <td>0.000170</td>\n",
       "      <td>0.000170</td>\n",
       "      <td>0.000000</td>\n",
       "    </tr>\n",
       "    <tr>\n",
       "      <td>...</td>\n",
       "      <td>...</td>\n",
       "      <td>...</td>\n",
       "      <td>...</td>\n",
       "      <td>...</td>\n",
       "      <td>...</td>\n",
       "    </tr>\n",
       "    <tr>\n",
       "      <td>5876</td>\n",
       "      <td>5</td>\n",
       "      <td>0.000510</td>\n",
       "      <td>0.000510</td>\n",
       "      <td>0.001190</td>\n",
       "      <td>0.001190</td>\n",
       "    </tr>\n",
       "    <tr>\n",
       "      <td>5877</td>\n",
       "      <td>4</td>\n",
       "      <td>0.009184</td>\n",
       "      <td>0.010714</td>\n",
       "      <td>0.029757</td>\n",
       "      <td>0.028567</td>\n",
       "    </tr>\n",
       "    <tr>\n",
       "      <td>5878</td>\n",
       "      <td>3</td>\n",
       "      <td>0.003571</td>\n",
       "      <td>0.000000</td>\n",
       "      <td>0.000000</td>\n",
       "      <td>-0.001020</td>\n",
       "    </tr>\n",
       "    <tr>\n",
       "      <td>5879</td>\n",
       "      <td>2</td>\n",
       "      <td>0.006973</td>\n",
       "      <td>0.007653</td>\n",
       "      <td>0.024316</td>\n",
       "      <td>0.020915</td>\n",
       "    </tr>\n",
       "    <tr>\n",
       "      <td>5880</td>\n",
       "      <td>1</td>\n",
       "      <td>0.038435</td>\n",
       "      <td>0.036565</td>\n",
       "      <td>0.073627</td>\n",
       "      <td>0.136201</td>\n",
       "    </tr>\n",
       "  </tbody>\n",
       "</table>\n",
       "<p>5881 rows × 5 columns</p>\n",
       "</div>"
      ],
      "text/plain": [
       "         0         1         2         3         4\n",
       "0     6005  0.000170  0.000000  0.000000  0.000170\n",
       "1     6004  0.000170  0.000000  0.000000  0.000170\n",
       "2     6003  0.000170  0.000000  0.000000  0.000170\n",
       "3     6002  0.000170  0.000000  0.000000  0.000170\n",
       "4     6000  0.000000  0.000170  0.000170  0.000000\n",
       "...    ...       ...       ...       ...       ...\n",
       "5876     5  0.000510  0.000510  0.001190  0.001190\n",
       "5877     4  0.009184  0.010714  0.029757  0.028567\n",
       "5878     3  0.003571  0.000000  0.000000 -0.001020\n",
       "5879     2  0.006973  0.007653  0.024316  0.020915\n",
       "5880     1  0.038435  0.036565  0.073627  0.136201\n",
       "\n",
       "[5881 rows x 5 columns]"
      ]
     },
     "execution_count": 28,
     "metadata": {},
     "output_type": "execute_result"
    }
   ],
   "source": [
    "dataframe = pd.DataFrame(to_data_frame)\n",
    "dataframe"
   ]
  },
  {
   "cell_type": "code",
   "execution_count": null,
   "metadata": {},
   "outputs": [],
   "source": []
  }
 ],
 "metadata": {
  "kernelspec": {
   "display_name": "Python 3",
   "language": "python",
   "name": "python3"
  },
  "language_info": {
   "codemirror_mode": {
    "name": "ipython",
    "version": 3
   },
   "file_extension": ".py",
   "mimetype": "text/x-python",
   "name": "python",
   "nbconvert_exporter": "python",
   "pygments_lexer": "ipython3",
   "version": "3.7.1"
  }
 },
 "nbformat": 4,
 "nbformat_minor": 2
}
